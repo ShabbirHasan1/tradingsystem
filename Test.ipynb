{
 "cells": [
  {
   "cell_type": "markdown",
   "metadata": {
    "slideshow": {
     "slide_type": "slide"
    }
   },
   "source": [
    "# Creating an end-to-end automated trading system\n",
    "\n",
    "What are we going to build?\n",
    "---------------------------\n",
    "\n",
    "A day trading system for trading in National Stock Exchange(NSE).\n",
    "\n",
    "Orders would be placed at the start of the day and closed by the end of the day or exit by a stop loss. We would be using the end of the day data as our source data. \n",
    "\n",
    "The trading system has four distinct parts\n",
    "\n",
    "1. Creating a trading strategy\n",
    "2. Backtesting and simulation\n",
    "3. Deploying the system and order execution\n",
    "4. Evaluating the performance of the system\n",
    "\n",
    "\n",
    "We follow a simple principle\n",
    "> **Don't waste your money**"
   ]
  },
  {
   "cell_type": "markdown",
   "metadata": {
    "slideshow": {
     "slide_type": "slide"
    }
   },
   "source": [
    "## Primer on financial concepts\n",
    "\n",
    "A short primer on risk and return calculations. This is more of a practical explanation; so take it with a grain of salt\n",
    " "
   ]
  },
  {
   "cell_type": "markdown",
   "metadata": {
    "slideshow": {
     "slide_type": "slide"
    }
   },
   "source": [
    "## Putting it simply\n",
    "\n",
    "> ### **Risk** is the amount of money you are willing to lose\n",
    "\n",
    "> ### **Return** is the amount of money you expect to gain"
   ]
  },
  {
   "cell_type": "markdown",
   "metadata": {
    "slideshow": {
     "slide_type": "subslide"
    }
   },
   "source": [
    "A risk to return ratio of 1:2 mean you are willing to lose 1 rupee if you expect a gain of 2 rupees.\n",
    "\n",
    "The risk-reward ratio is often misleading since\n",
    "\n",
    " * there are no probabilities attached to the risk and return\n",
    " * we strictly expect either we lose 1 or gain 2 but in practice we may end up between these two cases most of the time\n",
    " \n",
    "So, we would be using **payoff** to evaluate strategies\n",
    "\n",
    "\n"
   ]
  },
  {
   "cell_type": "markdown",
   "metadata": {
    "slideshow": {
     "slide_type": "slide"
    }
   },
   "source": [
    "Payoff is the amount of money you would expect to receive for the amount of investment made.\n",
    "\n",
    "It is the average returns and losses multiplied by the probability of returns and losses. Let's look at an example"
   ]
  },
  {
   "cell_type": "markdown",
   "metadata": {
    "slideshow": {
     "slide_type": "subslide"
    }
   },
   "source": [
    "Let's assume a trading strategy with a risk-reward ratio of 1:2 with the following details\n",
    "\n",
    " * lose 1 - 30% of the time\n",
    " * gain 2 - 20% of the time\n",
    " * makes 0 - 50% of the time\n",
    " \n",
    "Then the pay off is \n",
    "\n",
    "`-1*0.3 + 2*0.2 + 0*0.5 = 0.1`\n",
    "\n",
    "So, you would making 0.1 for every rupee invested."
   ]
  },
  {
   "cell_type": "markdown",
   "metadata": {
    "slideshow": {
     "slide_type": "subslide"
    }
   },
   "source": [
    "Payoff makes decision making easier. A positive payoff is favorable while a negative payoff is unfavorable"
   ]
  },
  {
   "cell_type": "markdown",
   "metadata": {
    "slideshow": {
     "slide_type": "slide"
    }
   },
   "source": [
    "**Warning**\n",
    "\n",
    "We expect these probabilities in the long run based on history. So, we would very well end up in loss in the short or medium term even if our probabilities turn out to be right."
   ]
  },
  {
   "cell_type": "markdown",
   "metadata": {
    "slideshow": {
     "slide_type": "slide"
    }
   },
   "source": [
    "### Rule 01\n",
    "\n",
    "> ### Risk is very very personal"
   ]
  },
  {
   "cell_type": "markdown",
   "metadata": {
    "slideshow": {
     "slide_type": "slide"
    }
   },
   "source": [
    "### Rule 02\n",
    "\n",
    "> ### Returns are always expectations unless realized"
   ]
  }
 ],
 "metadata": {
  "kernelspec": {
   "display_name": "Python 3",
   "language": "python",
   "name": "python3"
  },
  "language_info": {
   "codemirror_mode": {
    "name": "ipython",
    "version": 3
   },
   "file_extension": ".py",
   "mimetype": "text/x-python",
   "name": "python",
   "nbconvert_exporter": "python",
   "pygments_lexer": "ipython3",
   "version": "3.6.8"
  }
 },
 "nbformat": 4,
 "nbformat_minor": 2
}

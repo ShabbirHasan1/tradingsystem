{
 "cells": [
  {
   "cell_type": "markdown",
   "metadata": {
    "slideshow": {
     "slide_type": "slide"
    }
   },
   "source": [
    "# Creating an end-to-end automated trading system\n",
    "\n",
    "What are we going to build?\n",
    "---------------------------\n",
    "\n",
    "A day trading system for trading in National Stock Exchange(NSE).\n",
    "\n",
    "Orders would be placed at the start of the day and closed by the end of the day or exit by a stop loss. We would be using the end of the day data as our source data. \n",
    "\n",
    "The trading system has four distinct parts\n",
    "\n",
    "1. Creating a trading strategy\n",
    "2. Backtesting and simulation\n",
    "3. Deploying the system and order execution\n",
    "4. Evaluating the performance of the system\n",
    "\n",
    "\n",
    "We follow a simple principle\n",
    "> **Don't waste your money**"
   ]
  },
  {
   "cell_type": "markdown",
   "metadata": {
    "slideshow": {
     "slide_type": "slide"
    }
   },
   "source": [
    "# Primer on financial concepts\n",
    "\n",
    "A short primer on risk and return calculations. This is more of a practical explanation; so take it with a grain of salt.\n",
    " "
   ]
  },
  {
   "cell_type": "markdown",
   "metadata": {
    "slideshow": {
     "slide_type": "slide"
    }
   },
   "source": [
    "## Putting it simply\n",
    "\n",
    "> ### **Risk** is the amount of money you are willing to lose\n",
    "\n",
    "> ### **Return** is the amount of money you expect to gain"
   ]
  },
  {
   "cell_type": "markdown",
   "metadata": {
    "slideshow": {
     "slide_type": "subslide"
    }
   },
   "source": [
    "A risk to return ratio of 1:2 mean you are willing to lose 1 rupee if you expect a gain of 2 rupees.\n",
    "\n",
    "The risk-reward ratio is often misleading since\n",
    "\n",
    " * there are no probabilities attached to the risk and return\n",
    " * we strictly expect either we lose 1 or gain 2 but in practice we may end up between these two cases most of the time\n",
    " \n",
    "So, we would be using **payoff** to evaluate strategies\n",
    "\n",
    "\n"
   ]
  },
  {
   "cell_type": "markdown",
   "metadata": {
    "slideshow": {
     "slide_type": "slide"
    }
   },
   "source": [
    "Payoff is the amount of money you would expect to receive for the amount of investment made.\n",
    "\n",
    "It is the average returns and losses multiplied by the probability of returns and losses. Let's look at an example"
   ]
  },
  {
   "cell_type": "markdown",
   "metadata": {
    "slideshow": {
     "slide_type": "subslide"
    }
   },
   "source": [
    "Let's assume a trading strategy with a risk-reward ratio of 1:2 with the following details\n",
    "\n",
    " * lose 1 - 30% of the time\n",
    " * gain 2 - 20% of the time\n",
    " * makes 0 - 50% of the time\n",
    " \n",
    "Then the pay off is \n",
    "\n",
    "`-1*0.3 + 2*0.2 + 0*0.5 = 0.1`\n",
    "\n",
    "So, you would making 0.1 for every rupee invested."
   ]
  },
  {
   "cell_type": "markdown",
   "metadata": {
    "slideshow": {
     "slide_type": "subslide"
    }
   },
   "source": [
    "Payoff makes decision making easier. A positive payoff is favorable while a negative payoff is unfavorable"
   ]
  },
  {
   "cell_type": "markdown",
   "metadata": {
    "slideshow": {
     "slide_type": "slide"
    }
   },
   "source": [
    "**Warning**\n",
    "\n",
    "We expect these probabilities in the long run based on history. So, we would very well end up in loss in the short or medium term even if our probabilities turn out to be right."
   ]
  },
  {
   "cell_type": "markdown",
   "metadata": {
    "slideshow": {
     "slide_type": "slide"
    }
   },
   "source": [
    "### Rule 01\n",
    "\n",
    "> ### Risk is very very personal\n",
    "\n",
    "### Rule 02\n",
    "\n",
    "> ### Returns are always expectations unless realized"
   ]
  },
  {
   "cell_type": "markdown",
   "metadata": {
    "slideshow": {
     "slide_type": "slide"
    }
   },
   "source": [
    "### Return calculations\n",
    "\n",
    "Return calculation is similar to net profit calculation\n",
    "\n",
    "$Profit = Sell \\ Value - Buy \\ Value$\n",
    "\n",
    "$Returns = \\frac{Sell Value - Buy Value}{Buy Value}$\n",
    "\n",
    "In case of annualized returns, then\n",
    "\n",
    "$Annualized Returns = \\frac{Sell Value - Buy Value}{Buy Value} * \\frac{365}{holding\\ period}$\n",
    "\n",
    " * Holding period is the period you held the investment\n",
    " * Buy and sell value is the quantity multiplied by average price\n",
    " \n",
    "\n"
   ]
  },
  {
   "cell_type": "markdown",
   "metadata": {
    "slideshow": {
     "slide_type": "slide"
    }
   },
   "source": [
    "\n",
    "Warning\n",
    "=========\n",
    " > Annualized return is not the actual return (unless the holding period is exactly 365 days). We are just proportionately calculating the returns based on the holding period. So if the holding period is 2 months, we assume we would get these returns for the rest of the year, which is quite impractical. Thus we must distinguish properly between holding period returns and annualized returns.\n",
    "### Rule 03\n",
    "\n",
    "> ### Know your assumptions and always write them down"
   ]
  },
  {
   "cell_type": "markdown",
   "metadata": {
    "slideshow": {
     "slide_type": "skip"
    }
   },
   "source": [
    "**Example**\n",
    "\n",
    "100 units of stock A is bought on 1st JAN 2019 for 2500 and sold on 25th MAR 2019 for 2620. Calculate the returns"
   ]
  },
  {
   "cell_type": "code",
   "execution_count": 1,
   "metadata": {
    "slideshow": {
     "slide_type": "subslide"
    }
   },
   "outputs": [
    {
     "name": "stdout",
     "output_type": "stream",
     "text": [
      "Net profit  = 12000\n",
      "Returns for the period = 4.80%\n",
      "Annualized returns = 21.11%\n"
     ]
    }
   ],
   "source": [
    "import pandas as pd\n",
    "\n",
    "# Inputs\n",
    "buy_price = 2500\n",
    "buy_date = pd.to_datetime('2019-01-01')\n",
    "sell_price = 2620\n",
    "sell_date = pd.to_datetime('2019-03-25')\n",
    "qty = 100\n",
    "\n",
    "# Calculations\n",
    "buy_value = buy_price * qty\n",
    "sell_value = sell_price * qty\n",
    "holding_period = (sell_date - buy_date).days # Using pandas attribute to get the days\n",
    "\n",
    "# Outputs\n",
    "profit = sell_value - buy_value\n",
    "returns = (sell_value - buy_value)/buy_value\n",
    "annualized_return = returns * (365/holding_period)\n",
    "\n",
    "print('Net profit  = {}'.format(profit))\n",
    "print('Returns for the period = {:.2f}%'.format(returns*100))\n",
    "print('Annualized returns = {:.2f}%'.format(annualized_return*100))"
   ]
  },
  {
   "cell_type": "code",
   "execution_count": 2,
   "metadata": {
    "slideshow": {
     "slide_type": "skip"
    }
   },
   "outputs": [],
   "source": [
    "# Exercise 01 - Calculate the returns\n",
    "# 1000 units of an index bought for 11000\n",
    "# and sold for 12000 after holding for 60 days\n"
   ]
  },
  {
   "cell_type": "code",
   "execution_count": 3,
   "metadata": {
    "slideshow": {
     "slide_type": "skip"
    }
   },
   "outputs": [],
   "source": [
    "# Exercise 02 - Calculate the returns\n",
    "# 100 units of a stock bought on 1st JAN 2018 for 3400\n",
    "# and sold for 3185 on 20th JULY 2019"
   ]
  },
  {
   "cell_type": "markdown",
   "metadata": {
    "slideshow": {
     "slide_type": "slide"
    }
   },
   "source": [
    "## Leverage\n",
    "\n",
    "**Leverage is a multiplier on your capital**.\n",
    "\n",
    "Leverage is borrowing money so that you can get greater gains with your investment.\n",
    "\n",
    "**Example**\n",
    "\n",
    "You have 10000 and you buy 100 units of stock A at 100 and sell them at 110. \n",
    "\n",
    "Your profit is $(110-100)*100 = 1000$\n",
    "\n",
    "Say you have a leverage of 5. This means you now have a capital of $5*10000=50000$ to invest. Now instead of 100, you could buy 500 units of Stock A. \n",
    "\n",
    "Now your profit is $(110-100)*500 = 5000$ \n"
   ]
  },
  {
   "cell_type": "markdown",
   "metadata": {
    "slideshow": {
     "slide_type": "subslide"
    }
   },
   "source": [
    "### How leverage works?\n",
    "\n",
    "Leverage is akin to borrowing in regular business. You borrow 40000 and then invest your 10000 capital. After the trade, you repay the borrowing and take away all the profit. In regular business, you pay interest on this borrowing and the loans are usually provided by the banks. In stock trading, this leverage is provided by the broker, and in most of the cases you get it for free (without interest) from your broker. Your broker provides it for free since you would be increasing your turnover; so the broker benefits from brokerage. It also provides better liquidity to the market due to more turnover with lesser investment."
   ]
  },
  {
   "cell_type": "markdown",
   "metadata": {
    "slideshow": {
     "slide_type": "subslide"
    }
   },
   "source": [
    "**Leverage is a double-edged sword.** You can go down as fast as you go up and it may not be exactly linear all the time, making it difficult to comprehend.\n",
    "\n",
    "### Rule 04\n",
    "\n",
    "> If you are new to markets, don't leverage"
   ]
  },
  {
   "cell_type": "markdown",
   "metadata": {
    "slideshow": {
     "slide_type": "subslide"
    }
   },
   "source": [
    "Leverage doesn't change your profits but it changes your return percentage. Your returns and annualized returns get multiplied by the leverage. In our previous example, the returns would be \n",
    "\n",
    "<table>\n",
    "    <thead>\n",
    "        <th>Leverage</th>\n",
    "        <th>Own Capital</th>\n",
    "        <th>Borrowed</th>\n",
    "        <th>Returns</th>\n",
    "        <th>Annualized returns</th>\n",
    "    </thead>\n",
    "    <tbody>\n",
    "        <tr>\n",
    "            <td>1X</td>\n",
    "            <td>250000</td>\n",
    "            <td>0</td>\n",
    "            <td>4.80%</td>\n",
    "            <td>21.11%</td>\n",
    "        </tr>\n",
    "          <tr>\n",
    "            <td>2X</td>\n",
    "            <td>125000</td>\n",
    "            <td>125000</td>\n",
    "            <td>9.60%</td>\n",
    "            <td>42.22%</td>          \n",
    "        </tr>\n",
    "        <tr>\n",
    "            <td>5X</td>\n",
    "            <td>50000</td>\n",
    "            <td>200000</td>\n",
    "            <td>24.00%</td>\n",
    "            <td>105.54%</td>          \n",
    "        </tr>\n",
    "        <tr>\n",
    "            <td>10X</td>\n",
    "            <td>25000</td>\n",
    "            <td>225000</td>\n",
    "            <td>48.00%</td>\n",
    "            <td>211.10%</td>          \n",
    "        </tr>\n",
    "    </tbody>\n",
    "    \n",
    "</table>\n",
    "\n",
    "*Unless otherwise mentioned, there would be no leverage in our system*\n",
    "    "
   ]
  },
  {
   "cell_type": "markdown",
   "metadata": {
    "slideshow": {
     "slide_type": "slide"
    }
   },
   "source": [
    "## Short selling\n",
    "\n",
    "In stock markets, you can sell stocks you don't have. This is called **short selling** and is allowed in intraday trading. This would change the return calculation as the denominator is replaced.\n",
    "\n",
    "$Returns = \\frac{Sell Value - Buy Value}{Sell Value}$\n",
    "\n",
    "If you buy a stock first, it is called a **LONG position.**\n",
    "\n",
    "If you sell a stock first(short selling), its called a **SHORT position.**\n"
   ]
  },
  {
   "cell_type": "markdown",
   "metadata": {
    "slideshow": {
     "slide_type": "slide"
    }
   },
   "source": [
    "## Stop Loss\n",
    "\n",
    "Stop loss is the amount at which you exit the order if a stock moves in the opposite direction. It is a loss protection mechanism.\n",
    "\n",
    "$Stop Loss(BUY) = price*(1-stoploss)$\n",
    "\n",
    "$Stop Loss(SELL) = price*(1+stoploss)$\n",
    "\n",
    "**Example**\n",
    "\n",
    "Price of Stock A is 100. Calculate stop loss at 2% for both BUY and SELL"
   ]
  },
  {
   "cell_type": "code",
   "execution_count": 7,
   "metadata": {
    "slideshow": {
     "slide_type": "slide"
    }
   },
   "outputs": [
    {
     "name": "stdout",
     "output_type": "stream",
     "text": [
      "Stop Loss 2% if stock is bought at 100 = 98.0\n",
      "Stop Loss 2% if stock is sold at 100 = 102.0\n"
     ]
    }
   ],
   "source": [
    "price = 100\n",
    "stop_loss = 2*0.01\n",
    "buy_sl = 100*(1-stop_loss)\n",
    "sell_sl = 100*(1+stop_loss)\n",
    "\n",
    "print('Stop Loss 2% if stock is bought at 100 = {}'.format(buy_sl))\n",
    "print('Stop Loss 2% if stock is sold at 100 = {}'.format(sell_sl))"
   ]
  },
  {
   "cell_type": "code",
   "execution_count": 9,
   "metadata": {
    "slideshow": {
     "slide_type": "skip"
    }
   },
   "outputs": [],
   "source": [
    "# Exercise 03\n",
    "# The price of stock A is 3450. \n",
    "# Calculate stop loss at 3.5% for both BUY and SELL\n"
   ]
  },
  {
   "cell_type": "markdown",
   "metadata": {
    "slideshow": {
     "slide_type": "slide"
    }
   },
   "source": [
    "## A few more terms\n",
    "\n",
    "**LIMIT order**\n",
    "A limit order is executed exactly at the given price.\n",
    "\n",
    "**MARKET order**\n",
    "A market order is executed at the best available price.\n",
    "\n",
    "**Costs**\n",
    "Costs are other costs related to trading such as brokerage, statutory costs etc\n",
    "\n",
    "**Slippage**\n",
    "Slippage is the difference between our expected price and the executed price"
   ]
  },
  {
   "cell_type": "markdown",
   "metadata": {},
   "source": [
    "## Data Collection and storage\n",
    "\n",
    "We would be using data from the official [NSE Website](https://nseindia.com/). Only end of the day data for capital markets would be used; this file is called bhav copy. \n",
    "\n",
    "You could get the historical data from this [link](https://nseindia.com/products/content/equities/equities/archieve_eq.htm). NSE provides data for all the stocks. For this tutorial, files in the data directory would be used. These files are just a selected compilation from the files downloaded from the above link.\n",
    "\n",
    "This data is used since it is provided officially by the NSE and is available for free for personal use. Using end of data could possibly save you from [survivorship bias](https://en.wikipedia.org/wiki/Survivorship_bias).\n",
    "\n",
    "Index data could be obtained from this [site](https://www.niftyindices.com/).\n",
    "\n",
    "You could store this data as flat files or in a database or a HDF5 file. S"
   ]
  }
 ],
 "metadata": {
  "kernelspec": {
   "display_name": "Python 3",
   "language": "python",
   "name": "python3"
  },
  "language_info": {
   "codemirror_mode": {
    "name": "ipython",
    "version": 3
   },
   "file_extension": ".py",
   "mimetype": "text/x-python",
   "name": "python",
   "nbconvert_exporter": "python",
   "pygments_lexer": "ipython3",
   "version": "3.6.8"
  }
 },
 "nbformat": 4,
 "nbformat_minor": 2
}

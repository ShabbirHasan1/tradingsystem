{
 "cells": [
  {
   "cell_type": "markdown",
   "metadata": {
    "slideshow": {
     "slide_type": "slide"
    }
   },
   "source": [
    "# Creating an end-to-end automated trading system\n",
    "\n",
    "What are we going to build?\n",
    "---------------------------\n",
    "\n",
    "A day trading system for trading in National Stock Exchange(NSE).\n",
    "\n",
    "Orders would be placed at the start of the day and closed by the end of the day or exit by a stop loss. We would be using the end of the day data as our source data. \n",
    "\n",
    "The trading system has four distinct parts\n",
    "\n",
    "1. Creating a trading strategy\n",
    "2. Backtesting and simulation\n",
    "3. Deploying the system and order execution\n",
    "4. Evaluating the performance of the system\n",
    "\n",
    "\n",
    "We follow a simple principle\n",
    "> **Don't waste your money**"
   ]
  },
  {
   "cell_type": "markdown",
   "metadata": {
    "slideshow": {
     "slide_type": "slide"
    }
   },
   "source": [
    "# Primer on financial concepts\n",
    "\n",
    "A short primer on risk and return calculations. This is more of a practical explanation; so take it with a grain of salt.\n",
    " "
   ]
  },
  {
   "cell_type": "markdown",
   "metadata": {
    "slideshow": {
     "slide_type": "slide"
    }
   },
   "source": [
    "## Putting it simply\n",
    "\n",
    "> ### **Risk** is the amount of money you are willing to lose\n",
    "\n",
    "> ### **Return** is the amount of money you expect to gain"
   ]
  },
  {
   "cell_type": "markdown",
   "metadata": {
    "slideshow": {
     "slide_type": "subslide"
    }
   },
   "source": [
    "A risk to return ratio of 1:2 mean you are willing to lose 1 rupee if you expect a gain of 2 rupees.\n",
    "\n",
    "The risk-reward ratio is often misleading since\n",
    "\n",
    " * there are no probabilities attached to the risk and return\n",
    " * we strictly expect either we lose 1 or gain 2 but in practice we may end up between these two cases most of the time\n",
    " \n",
    "So, we would be using **payoff** to evaluate strategies\n",
    "\n",
    "\n"
   ]
  },
  {
   "cell_type": "markdown",
   "metadata": {
    "slideshow": {
     "slide_type": "slide"
    }
   },
   "source": [
    "Payoff is the amount of money you would expect to receive for the amount of investment made.\n",
    "\n",
    "It is the average returns and losses multiplied by the probability of returns and losses. Let's look at an example"
   ]
  },
  {
   "cell_type": "markdown",
   "metadata": {
    "slideshow": {
     "slide_type": "subslide"
    }
   },
   "source": [
    "Let's assume a trading strategy with a risk-reward ratio of 1:2 with the following details\n",
    "\n",
    " * lose 1 - 30% of the time\n",
    " * gain 2 - 20% of the time\n",
    " * makes 0 - 50% of the time\n",
    " \n",
    "Then the pay off is \n",
    "\n",
    "`-1*0.3 + 2*0.2 + 0*0.5 = 0.1`\n",
    "\n",
    "So, you would making 0.1 for every rupee invested."
   ]
  },
  {
   "cell_type": "markdown",
   "metadata": {
    "slideshow": {
     "slide_type": "subslide"
    }
   },
   "source": [
    "Payoff makes decision making easier. A positive payoff is favorable while a negative payoff is unfavorable"
   ]
  },
  {
   "cell_type": "markdown",
   "metadata": {
    "slideshow": {
     "slide_type": "slide"
    }
   },
   "source": [
    "**Warning**\n",
    "\n",
    "We expect these probabilities in the long run based on history. So, we would very well end up in loss in the short or medium term even if our probabilities turn out to be right."
   ]
  },
  {
   "cell_type": "markdown",
   "metadata": {
    "slideshow": {
     "slide_type": "slide"
    }
   },
   "source": [
    "### Rule 01\n",
    "\n",
    "> ### Risk is very very personal"
   ]
  },
  {
   "cell_type": "markdown",
   "metadata": {
    "slideshow": {
     "slide_type": "slide"
    }
   },
   "source": [
    "### Rule 02\n",
    "\n",
    "> ### Returns are always expectations unless realized"
   ]
  },
  {
   "cell_type": "markdown",
   "metadata": {
    "slideshow": {
     "slide_type": "slide"
    }
   },
   "source": [
    "### Return calculations\n",
    "\n",
    "Return calculation is similar to net profit calculation\n",
    "\n",
    "$Profit = Sell \\ Value - Buy \\ Value$\n",
    "\n",
    "$Returns = \\frac{Sell Value - Buy Value}{Buy Value}$\n",
    "\n",
    "In case of annualized returns, then\n",
    "\n",
    "$Annualized Returns = \\frac{Sell Value - Buy Value}{Buy Value} * \\frac{365}{holding\\ period}$\n",
    "\n",
    " * Holding period is the period you held the investment\n",
    " * Buy and sell value is the quantity multiplied by average price\n",
    " \n",
    "Warning\n",
    "=========\n",
    " > Annualized return is not the actual return (unless the holding period is exactly 365 days). We are just proportionately calculating the returns based on the holding period. So if the holding period is 2 months, we assume we would get these returns for the rest of the year, which is quite impractical. Thus we must distinguish properly between holding period returns and annualized returns.\n"
   ]
  },
  {
   "cell_type": "markdown",
   "metadata": {
    "slideshow": {
     "slide_type": "slide"
    }
   },
   "source": [
    "### Rule 03\n",
    "\n",
    "> ### Know your assumptions and always write them down"
   ]
  },
  {
   "cell_type": "markdown",
   "metadata": {
    "slideshow": {
     "slide_type": "slide"
    }
   },
   "source": [
    "**Example**\n",
    "\n",
    "100 units of stock A is bought on 1st JAN 2019 for 2500 and sold on 25th MAR 2019 for 2620. Calculate the returns"
   ]
  },
  {
   "cell_type": "code",
   "execution_count": 12,
   "metadata": {
    "slideshow": {
     "slide_type": "subslide"
    }
   },
   "outputs": [
    {
     "name": "stdout",
     "output_type": "stream",
     "text": [
      "Net profit  = 12000\n",
      "Returns for the period = 4.80%\n",
      "Annualized returns = 21.11%\n"
     ]
    }
   ],
   "source": [
    "import pandas as pd\n",
    "\n",
    "# Inputs\n",
    "buy_price = 2500\n",
    "buy_date = pd.to_datetime('2019-01-01')\n",
    "sell_price = 2620\n",
    "sell_date = pd.to_datetime('2019-03-25')\n",
    "qty = 100\n",
    "\n",
    "# Calculations\n",
    "buy_value = buy_price * qty\n",
    "sell_value = sell_price * qty\n",
    "holding_period = (sell_date - buy_date).days # Using pandas attribute to get the days\n",
    "\n",
    "# Outputs\n",
    "profit = sell_value - buy_value\n",
    "returns = (sell_value - buy_value)/buy_value\n",
    "annualized_return = returns * (365/holding_period)\n",
    "\n",
    "print('Net profit  = {}'.format(profit))\n",
    "print('Returns for the period = {:.2f}%'.format(returns*100))\n",
    "print('Annualized returns = {:.2f}%'.format(annualized_return*100))"
   ]
  },
  {
   "cell_type": "code",
   "execution_count": 14,
   "metadata": {},
   "outputs": [],
   "source": [
    "# Exercise 01 - Calculate the returns\n",
    "# 1000 units of an index bought for 11000\n",
    "# and sold for 12000 after holding for 60 days\n"
   ]
  },
  {
   "cell_type": "code",
   "execution_count": null,
   "metadata": {},
   "outputs": [],
   "source": [
    "# Exercise 02 - Calculate the returns\n",
    "# 100 units of a stock bought on 1st JAN 2018 for 3400\n",
    "# and sold for 3185 on 20th JULY 2019"
   ]
  }
 ],
 "metadata": {
  "kernelspec": {
   "display_name": "Python 3",
   "language": "python",
   "name": "python3"
  },
  "language_info": {
   "codemirror_mode": {
    "name": "ipython",
    "version": 3
   },
   "file_extension": ".py",
   "mimetype": "text/x-python",
   "name": "python",
   "nbconvert_exporter": "python",
   "pygments_lexer": "ipython3",
   "version": "3.6.8"
  }
 },
 "nbformat": 4,
 "nbformat_minor": 2
}

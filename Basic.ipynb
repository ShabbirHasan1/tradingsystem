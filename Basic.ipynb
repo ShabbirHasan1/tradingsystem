{
 "cells": [
  {
   "cell_type": "markdown",
   "metadata": {
    "slideshow": {
     "slide_type": "slide"
    }
   },
   "source": [
    "# Creating an end-to-end automated trading system\n",
    "\n",
    "What are we going to build?\n",
    "---------------------------\n",
    "\n",
    "A day trading system for trading in National Stock Exchange(NSE).\n",
    "\n",
    "Orders would be placed at the start of the day and closed by the end of the day or exit by a stop loss. We would be using the end of the day data as our source data. \n",
    "\n",
    "The trading system has four distinct parts\n",
    "\n",
    "1. Creating a trading strategy\n",
    "2. Backtesting and simulation\n",
    "3. Deploying the system and order execution\n",
    "4. Evaluating the performance of the system\n",
    "\n",
    "\n",
    "We follow a simple principle\n",
    "> **Don't waste your money**"
   ]
  },
  {
   "cell_type": "markdown",
   "metadata": {
    "slideshow": {
     "slide_type": "slide"
    }
   },
   "source": [
    "# Primer on financial concepts\n",
    "\n",
    "A short primer on risk and return calculations. This is more of a practical explanation; so take it with a grain of salt.\n",
    " "
   ]
  },
  {
   "cell_type": "markdown",
   "metadata": {
    "slideshow": {
     "slide_type": "slide"
    }
   },
   "source": [
    "## Putting it simply\n",
    "\n",
    "> ### **Risk** is the amount of money you are willing to lose\n",
    "\n",
    "> ### **Return** is the amount of money you expect to gain"
   ]
  },
  {
   "cell_type": "markdown",
   "metadata": {
    "slideshow": {
     "slide_type": "subslide"
    }
   },
   "source": [
    "A risk to return ratio of 1:2 mean you are willing to lose 1 rupee if you expect a gain of 2 rupees.\n",
    "\n",
    "The risk-reward ratio is often misleading since\n",
    "\n",
    " * there are no probabilities attached to the risk and return\n",
    " * we strictly expect either we lose 1 or gain 2 but in practice we may end up between these two cases most of the time\n",
    " \n",
    "So, we would be using **payoff** to evaluate strategies\n",
    "\n",
    "\n"
   ]
  },
  {
   "cell_type": "markdown",
   "metadata": {
    "slideshow": {
     "slide_type": "slide"
    }
   },
   "source": [
    "Payoff is the amount of money you would expect to receive for the amount of investment made.\n",
    "\n",
    "It is the average returns and losses multiplied by the probability of returns and losses. Let's look at an example"
   ]
  },
  {
   "cell_type": "markdown",
   "metadata": {
    "slideshow": {
     "slide_type": "subslide"
    }
   },
   "source": [
    "Let's assume a trading strategy with a risk-reward ratio of 1:2 with the following details\n",
    "\n",
    " * lose 1 - 30% of the time\n",
    " * gain 2 - 20% of the time\n",
    " * makes 0 - 50% of the time\n",
    " \n",
    "Then the pay off is \n",
    "\n",
    "`-1*0.3 + 2*0.2 + 0*0.5 = 0.1`\n",
    "\n",
    "So, you would making 0.1 for every rupee invested."
   ]
  },
  {
   "cell_type": "markdown",
   "metadata": {
    "slideshow": {
     "slide_type": "subslide"
    }
   },
   "source": [
    "Payoff makes decision making easier. A positive payoff is favorable while a negative payoff is unfavorable"
   ]
  },
  {
   "cell_type": "markdown",
   "metadata": {
    "slideshow": {
     "slide_type": "slide"
    }
   },
   "source": [
    "**Warning**\n",
    "\n",
    "We expect these probabilities in the long run based on history. So, we would very well end up in loss in the short or medium term even if our probabilities turn out to be right."
   ]
  },
  {
   "cell_type": "markdown",
   "metadata": {
    "slideshow": {
     "slide_type": "slide"
    }
   },
   "source": [
    "### Rule 01\n",
    "\n",
    "> ### Risk is very very personal\n",
    "\n",
    "### Rule 02\n",
    "\n",
    "> ### Returns are always expectations unless realized"
   ]
  },
  {
   "cell_type": "markdown",
   "metadata": {
    "slideshow": {
     "slide_type": "slide"
    }
   },
   "source": [
    "### Return calculations\n",
    "\n",
    "Return calculation is similar to net profit calculation\n",
    "\n",
    "$Profit = Sell \\ Value - Buy \\ Value$\n",
    "\n",
    "$Returns = \\frac{Sell Value - Buy Value}{Buy Value}$\n",
    "\n",
    "In case of annualized returns, then\n",
    "\n",
    "$Annualized Returns = \\frac{Sell Value - Buy Value}{Buy Value} * \\frac{365}{holding\\ period}$\n",
    "\n",
    " * Holding period is the period you held the investment\n",
    " * Buy and sell value is the quantity multiplied by average price\n",
    " \n",
    "\n"
   ]
  },
  {
   "cell_type": "markdown",
   "metadata": {
    "slideshow": {
     "slide_type": "slide"
    }
   },
   "source": [
    "\n",
    "Warning\n",
    "=========\n",
    " > Annualized return is not the actual return (unless the holding period is exactly 365 days). We are just proportionately calculating the returns based on the holding period. So if the holding period is 2 months, we assume we would get these returns for the rest of the year, which is quite impractical. Thus we must distinguish properly between holding period returns and annualized returns.\n",
    "### Rule 03\n",
    "\n",
    "> ### Know your assumptions and always write them down"
   ]
  },
  {
   "cell_type": "markdown",
   "metadata": {
    "slideshow": {
     "slide_type": "skip"
    }
   },
   "source": [
    "**Example**\n",
    "\n",
    "100 units of stock A is bought on 1st JAN 2019 for 2500 and sold on 25th MAR 2019 for 2620. Calculate the returns"
   ]
  },
  {
   "cell_type": "code",
   "execution_count": 1,
   "metadata": {
    "slideshow": {
     "slide_type": "subslide"
    }
   },
   "outputs": [
    {
     "name": "stdout",
     "output_type": "stream",
     "text": [
      "Net profit  = 12000\n",
      "Returns for the period = 4.80%\n",
      "Annualized returns = 21.11%\n"
     ]
    }
   ],
   "source": [
    "import pandas as pd\n",
    "\n",
    "# Inputs\n",
    "buy_price = 2500\n",
    "buy_date = pd.to_datetime('2019-01-01')\n",
    "sell_price = 2620\n",
    "sell_date = pd.to_datetime('2019-03-25')\n",
    "qty = 100\n",
    "\n",
    "# Calculations\n",
    "buy_value = buy_price * qty\n",
    "sell_value = sell_price * qty\n",
    "holding_period = (sell_date - buy_date).days # Using pandas attribute to get the days\n",
    "\n",
    "# Outputs\n",
    "profit = sell_value - buy_value\n",
    "returns = (sell_value - buy_value)/buy_value\n",
    "annualized_return = returns * (365/holding_period)\n",
    "\n",
    "print('Net profit  = {}'.format(profit))\n",
    "print('Returns for the period = {:.2f}%'.format(returns*100))\n",
    "print('Annualized returns = {:.2f}%'.format(annualized_return*100))"
   ]
  },
  {
   "cell_type": "code",
   "execution_count": 2,
   "metadata": {
    "slideshow": {
     "slide_type": "skip"
    }
   },
   "outputs": [],
   "source": [
    "# Exercise 01 - Calculate the returns\n",
    "# 1000 units of an index bought for 11000\n",
    "# and sold for 12000 after holding for 60 days\n"
   ]
  },
  {
   "cell_type": "code",
   "execution_count": 3,
   "metadata": {
    "slideshow": {
     "slide_type": "skip"
    }
   },
   "outputs": [],
   "source": [
    "# Exercise 02 - Calculate the returns\n",
    "# 100 units of a stock bought on 1st JAN 2018 for 3400\n",
    "# and sold for 3185 on 20th JULY 2019"
   ]
  },
  {
   "cell_type": "markdown",
   "metadata": {
    "slideshow": {
     "slide_type": "slide"
    }
   },
   "source": [
    "## Leverage\n",
    "\n",
    "**Leverage is a multiplier on your capital**.\n",
    "\n",
    "Leverage is borrowing money so that you can get greater gains with your investment.\n",
    "\n",
    "**Example**\n",
    "\n",
    "You have 10000 and you buy 100 units of stock A at 100 and sell them at 110. \n",
    "\n",
    "Your profit is $(110-100)*100 = 1000$\n",
    "\n",
    "Say you have a leverage of 5. This means you now have a capital of $5*10000=50000$ to invest. Now instead of 100, you could buy 500 units of Stock A. \n",
    "\n",
    "Now your profit is $(110-100)*500 = 5000$ \n"
   ]
  },
  {
   "cell_type": "markdown",
   "metadata": {
    "slideshow": {
     "slide_type": "subslide"
    }
   },
   "source": [
    "### How leverage works?\n",
    "\n",
    "Leverage is akin to borrowing in regular business. You borrow 40000 and then invest your 10000 capital. After the trade, you repay the borrowing and take away all the profit. In regular business, you pay interest on this borrowing and the loans are usually provided by the banks. In stock trading, this leverage is provided by the broker, and in most of the cases you get it for free (without interest) from your broker. Your broker provides it for free since you would be increasing your turnover; so the broker benefits from brokerage. It also provides better liquidity to the market due to more turnover with lesser investment."
   ]
  },
  {
   "cell_type": "markdown",
   "metadata": {
    "slideshow": {
     "slide_type": "subslide"
    }
   },
   "source": [
    "**Leverage is a double-edged sword.** You can go down as fast as you go up and it may not be exactly linear all the time, making it difficult to comprehend.\n",
    "\n",
    "### Rule 04\n",
    "\n",
    "> If you are new to markets, don't leverage"
   ]
  },
  {
   "cell_type": "markdown",
   "metadata": {
    "slideshow": {
     "slide_type": "subslide"
    }
   },
   "source": [
    "Leverage doesn't change your profits but it changes your return percentage. Your returns and annualized returns get multiplied by the leverage. In our previous example, the returns would be \n",
    "\n",
    "<table>\n",
    "    <thead>\n",
    "        <th>Leverage</th>\n",
    "        <th>Own Capital</th>\n",
    "        <th>Borrowed</th>\n",
    "        <th>Returns</th>\n",
    "        <th>Annualized returns</th>\n",
    "    </thead>\n",
    "    <tbody>\n",
    "        <tr>\n",
    "            <td>1X</td>\n",
    "            <td>250000</td>\n",
    "            <td>0</td>\n",
    "            <td>4.80%</td>\n",
    "            <td>21.11%</td>\n",
    "        </tr>\n",
    "          <tr>\n",
    "            <td>2X</td>\n",
    "            <td>125000</td>\n",
    "            <td>125000</td>\n",
    "            <td>9.60%</td>\n",
    "            <td>42.22%</td>          \n",
    "        </tr>\n",
    "        <tr>\n",
    "            <td>5X</td>\n",
    "            <td>50000</td>\n",
    "            <td>200000</td>\n",
    "            <td>24.00%</td>\n",
    "            <td>105.54%</td>          \n",
    "        </tr>\n",
    "        <tr>\n",
    "            <td>10X</td>\n",
    "            <td>25000</td>\n",
    "            <td>225000</td>\n",
    "            <td>48.00%</td>\n",
    "            <td>211.10%</td>          \n",
    "        </tr>\n",
    "    </tbody>\n",
    "    \n",
    "</table>\n",
    "\n",
    "*Unless otherwise mentioned, there would be no leverage in our system*\n",
    "    "
   ]
  },
  {
   "cell_type": "markdown",
   "metadata": {
    "slideshow": {
     "slide_type": "slide"
    }
   },
   "source": [
    "## Short selling\n",
    "\n",
    "In stock markets, you can sell stocks you don't have. This is called **short selling** and is allowed in intraday trading. This would change the return calculation as the denominator is replaced.\n",
    "\n",
    "$Returns = \\frac{Sell Value - Buy Value}{Sell Value}$\n",
    "\n",
    "If you buy a stock first, it is called a **LONG position.**\n",
    "\n",
    "If you sell a stock first(short selling), its called a **SHORT position.**\n"
   ]
  },
  {
   "cell_type": "markdown",
   "metadata": {
    "slideshow": {
     "slide_type": "slide"
    }
   },
   "source": [
    "## Stop Loss\n",
    "\n",
    "Stop loss is the amount at which you exit the order if a stock moves in the opposite direction. It is a loss protection mechanism.\n",
    "\n",
    "$Stop Loss(BUY) = price*(1-stoploss)$\n",
    "\n",
    "$Stop Loss(SELL) = price*(1+stoploss)$\n",
    "\n",
    "**Example**\n",
    "\n",
    "Price of Stock A is 100. Calculate stop loss at 2% for both BUY and SELL"
   ]
  },
  {
   "cell_type": "code",
   "execution_count": 4,
   "metadata": {
    "slideshow": {
     "slide_type": "slide"
    }
   },
   "outputs": [
    {
     "name": "stdout",
     "output_type": "stream",
     "text": [
      "Stop Loss 2% if stock is bought at 100 = 98.0\n",
      "Stop Loss 2% if stock is sold at 100 = 102.0\n"
     ]
    }
   ],
   "source": [
    "price = 100\n",
    "stop_loss = 2*0.01\n",
    "buy_sl = 100*(1-stop_loss)\n",
    "sell_sl = 100*(1+stop_loss)\n",
    "\n",
    "print('Stop Loss 2% if stock is bought at 100 = {}'.format(buy_sl))\n",
    "print('Stop Loss 2% if stock is sold at 100 = {}'.format(sell_sl))"
   ]
  },
  {
   "cell_type": "code",
   "execution_count": 5,
   "metadata": {
    "slideshow": {
     "slide_type": "skip"
    }
   },
   "outputs": [],
   "source": [
    "# Exercise 03\n",
    "# The price of stock A is 3450. \n",
    "# Calculate stop loss at 3.5% for both BUY and SELL\n"
   ]
  },
  {
   "cell_type": "markdown",
   "metadata": {
    "slideshow": {
     "slide_type": "slide"
    }
   },
   "source": [
    "## A few more terms\n",
    "\n",
    "**LIMIT order**\n",
    "A limit order is executed exactly at the given price.\n",
    "\n",
    "**MARKET order**\n",
    "A market order is executed at the best available price.\n",
    "\n",
    "**Costs**\n",
    "Costs are other costs related to trading such as brokerage, statutory costs etc\n",
    "\n",
    "**Slippage**\n",
    "Slippage is the difference between our expected price and the executed price"
   ]
  },
  {
   "cell_type": "markdown",
   "metadata": {
    "slideshow": {
     "slide_type": "slide"
    }
   },
   "source": [
    "## Data Collection and storage\n",
    "\n",
    "We would be using data from the official [NSE Website](https://nseindia.com/). Only end of the day data for capital markets would be used; this file is called bhav copy. \n",
    "\n",
    "You could get the historical data from this [link](https://nseindia.com/products/content/equities/equities/archieve_eq.htm). NSE provides data for all the stocks. For this tutorial, files in the data directory would be used. These files are just a selected compilation from the files downloaded from the above link.\n",
    "\n",
    "This data is used since it is provided officially by the NSE and is available for free for personal use. Using end of data could possibly save you from [survivorship bias](https://en.wikipedia.org/wiki/Survivorship_bias).\n",
    "\n",
    "Index data could be obtained from this [site](https://www.niftyindices.com/).\n",
    "\n",
    "Data could be stored flat files or in a database or a HDF5 file and all data would be loaded in memory before working on it."
   ]
  },
  {
   "cell_type": "markdown",
   "metadata": {
    "slideshow": {
     "slide_type": "slide"
    }
   },
   "source": [
    "## Trading strategy\n",
    "\n",
    "And finally to begin with the trading strategy. \n",
    "\n",
    "### Assumptions\n",
    "\n",
    " * The strategy is purely intraday. Orders are placed at the start of the day and exit by the end of the day or by a stop loss. We have access to data including the preopen price. More on this [rationale here.](https://github.com/uberdeveloper/fastbt/blob/master/docs/rationale.md)\n",
    " * Capital is fixed during the entire period of backtesting\n",
    " * All stocks are ranked by a particular metric and the top or bottom n stocks are selected\n",
    " * All stocks are equi-weighted; capital is split equally among them.\n",
    " * All stocks have the same stop loss"
   ]
  },
  {
   "cell_type": "markdown",
   "metadata": {
    "slideshow": {
     "slide_type": "fragment"
    }
   },
   "source": [
    "### Why this method?\n",
    "\n",
    "* Easy to get started and simple to implement\n",
    "* Open source and reliable data\n",
    "* Better liquidity since all positions are closed by the end of the day\n",
    "* Maximum loss is fixed\n",
    "* And last, but not least, **sleep peacefully**"
   ]
  },
  {
   "cell_type": "markdown",
   "metadata": {
    "slideshow": {
     "slide_type": "slide"
    }
   },
   "source": [
    "### How to build a strategy?\n",
    "\n",
    "* Start with a broad universe of stocks and their data\n",
    "* Add necessary transformation in the form of [columns.](https://help.hacks.finance/columns.html)\n",
    "* Add conditions (filters) in the form of strings\n",
    "* Specify backtest parameters such as capital, stop loss, number of stocks\n",
    "* Run the backtest and evaluate the results"
   ]
  },
  {
   "cell_type": "code",
   "execution_count": 38,
   "metadata": {
    "slideshow": {
     "slide_type": "slide"
    }
   },
   "outputs": [],
   "source": [
    "# Import necessary libraries\n",
    "import pandas as pd\n",
    "import numpy as np\n",
    "import matplotlib.pyplot as plt\n",
    "from fastbt.datasource import DataSource\n",
    "from fastbt.rapid import backtest, metrics, price_sensitivity\n",
    "\n",
    "import seaborn as sns\n",
    "sns.set()"
   ]
  },
  {
   "cell_type": "markdown",
   "metadata": {
    "slideshow": {
     "slide_type": "fragment"
    }
   },
   "source": [
    "DataSource is an alternative to otherwise verbose pandas code specifically for financial data. It adds lags, percentage changes, indicators and more for all the stock symbols in a dataframe with fewer lines of code. You could look at the documentation [here.](https://help.hacks.finance/columns.html)"
   ]
  },
  {
   "cell_type": "code",
   "execution_count": 52,
   "metadata": {
    "slideshow": {
     "slide_type": "slide"
    }
   },
   "outputs": [],
   "source": [
    "df = pd.read_csv('data/nifty_50.csv.zip', parse_dates=['timestamp'])\n",
    "df['pret'] = df.eval('(open/prevclose)-1')\n",
    "ds = DataSource(df)\n",
    "\n",
    "# Add previous day return and preopen return\n",
    "ds.add_pct_change(col_name='ret', lag=1)\n",
    "ds.add_formula('(open/prevclose)-1', col_name='pret');"
   ]
  },
  {
   "cell_type": "code",
   "execution_count": 46,
   "metadata": {
    "slideshow": {
     "slide_type": "fragment"
    }
   },
   "outputs": [
    {
     "data": {
      "text/plain": [
       "56521.54999999945"
      ]
     },
     "execution_count": 46,
     "metadata": {},
     "output_type": "execute_result"
    }
   ],
   "source": [
    "results = backtest(data=ds.data, stop_loss=2, sort_by='pret', order='B')\n",
    "results.net_profit.sum()"
   ]
  },
  {
   "cell_type": "markdown",
   "metadata": {
    "slideshow": {
     "slide_type": "fragment"
    }
   },
   "source": [
    "We run the backtest\n",
    "\n",
    " * with a capital of 100000\n",
    " * by selecting the NIFTY 50 stocks\n",
    " * sort them by preopen return (from low to high)\n",
    " * select the top 5 stocks\n",
    " * exit them at a stop loss of 2%\n",
    " * repeat this for each day in the data\n",
    " \n",
    " "
   ]
  },
  {
   "cell_type": "markdown",
   "metadata": {
    "slideshow": {
     "slide_type": "slide"
    }
   },
   "source": [
    "The Equity Curve\n",
    "-----\n",
    "Let's look at the equity curve.\n",
    "\n",
    "An [equity curve](https://www.investopedia.com/terms/e/equity-curve.asp) is a graphical representation of the change in the value of a trading account over a time period"
   ]
  },
  {
   "cell_type": "code",
   "execution_count": 51,
   "metadata": {
    "slideshow": {
     "slide_type": "fragment"
    }
   },
   "outputs": [
    {
     "data": {
      "text/plain": [
       "Text(0, 0.5, 'Equity')"
      ]
     },
     "execution_count": 51,
     "metadata": {},
     "output_type": "execute_result"
    },
    {
     "data": {
      "image/png": "[encoded data removed]",
      "text/plain": [
       "<Figure size 432x288 with 1 Axes>"
      ]
     },
     "metadata": {},
     "output_type": "display_data"
    }
   ],
   "source": [
    "# Let's look the day-wise equity curve\n",
    "\n",
    "net_profit = results.groupby('timestamp').net_profit.sum().cumsum()\n",
    "equity_curve = 100000 + net_profit\n",
    "equity_curve.plot(title='Equity curve for 100000 invested')\n",
    "plt.xlabel('Date')\n",
    "plt.ylabel('Equity')"
   ]
  },
  {
   "cell_type": "code",
   "execution_count": 6,
   "metadata": {},
   "outputs": [
    {
     "data": {
      "text/plain": [
       "{'profit': 60435.80000000057,\n",
       " 'commission': 0.0,\n",
       " 'slippage': 0.0,\n",
       " 'net_profit': 60435.80000000057,\n",
       " 'high': 64005.85000000049,\n",
       " 'low': -4095.2499999999754,\n",
       " 'returns': 0.6043580000000057,\n",
       " 'drawdown': -0.08210900000000015,\n",
       " 'raw': 0.13711890188381015,\n",
       " 'sharpe': 0.3600245976501391}"
      ]
     },
     "execution_count": 6,
     "metadata": {},
     "output_type": "execute_result"
    }
   ],
   "source": [
    "metrics(results)"
   ]
  },
  {
   "cell_type": "markdown",
   "metadata": {},
   "source": [
    "## Order generation"
   ]
  },
  {
   "cell_type": "code",
   "execution_count": 12,
   "metadata": {},
   "outputs": [],
   "source": [
    "ACCOUNTID = 'XXXXXX' # Your accountId with broker"
   ]
  },
  {
   "cell_type": "code",
   "execution_count": 13,
   "metadata": {},
   "outputs": [],
   "source": [
    "# List of columns to be included in the output\n",
    "\n",
    "cols = [\n",
    "    'Segment', 'InstrumentName', 'Symbol', 'Option Type', 'Strike Price',\n",
    "    'ExpiryDate', 'Price', 'Qty', 'LTP', 'Buy/Sell', 'Order Type',\n",
    "    'TriggerPrice', 'Pro/Cli', 'P Type', 'Validity', 'AccountId',\n",
    "    'Validity Date', 'Remarks', 'Participant code', 'Validity Time',\n",
    "    'Market Proc'    \n",
    "]\n",
    "\n",
    "# These columns are common for all orders - columns with a single name\n",
    "columns = {\n",
    "    'Segment': 'NSE',\n",
    "    'InstrumentName': 'EQ',\n",
    "    'Option Type': 'NA',\n",
    "    'Strike Price': 'NA',\n",
    "    'ExpiryDate': 'NA',\n",
    "    'LTP': 0,\n",
    "    'Disclosed Qty': 0,\n",
    "    'AccountId': ACCOUNTID,\n",
    "    'Pro/Cli': 'CLI',\n",
    "    'Validity': 'DAY',\n",
    "    'P Type': 'MIS',\n",
    "    'Remarks': '',\n",
    "    'Validity Date': 'NA',\n",
    "    'Participant code': '',\n",
    "    'Validity Time': 'NA',\n",
    "    'Market Proc': 'NA',\n",
    "    'Order Type': 'SL'\n",
    "}\n",
    "\n",
    "# These are columns to be renamed\n",
    "rename = {\n",
    "    'order': 'Buy/Sell',\n",
    "    'price': 'Price',\n",
    "    'qty': 'Qty',\n",
    "    'trigger_price': 'TriggerPrice',\n",
    "    'price': 'Price' ,\n",
    "    'SYMBOL': 'Symbol'\n",
    "}"
   ]
  },
  {
   "cell_type": "code",
   "execution_count": 14,
   "metadata": {},
   "outputs": [
    {
     "ename": "NameError",
     "evalue": "name 'orders' is not defined",
     "output_type": "error",
     "traceback": [
      "\u001b[0;31m---------------------------------------------------------------------------\u001b[0m",
      "\u001b[0;31mNameError\u001b[0m                                 Traceback (most recent call last)",
      "\u001b[0;32m<ipython-input-14-6bc8a7fd3ef5>\u001b[0m in \u001b[0;36m<module>\u001b[0;34m\u001b[0m\n\u001b[1;32m      1\u001b[0m \u001b[0;31m# Generating orders in the required format\u001b[0m\u001b[0;34m\u001b[0m\u001b[0;34m\u001b[0m\u001b[0;34m\u001b[0m\u001b[0m\n\u001b[0;32m----> 2\u001b[0;31m \u001b[0mentry_orders\u001b[0m \u001b[0;34m=\u001b[0m \u001b[0morders\u001b[0m\u001b[0;34m.\u001b[0m\u001b[0mcopy\u001b[0m\u001b[0;34m(\u001b[0m\u001b[0;34m)\u001b[0m\u001b[0;34m\u001b[0m\u001b[0;34m\u001b[0m\u001b[0m\n\u001b[0m\u001b[1;32m      3\u001b[0m \u001b[0mentry\u001b[0m \u001b[0;34m=\u001b[0m \u001b[0mcreate_orders\u001b[0m\u001b[0;34m(\u001b[0m\u001b[0mentry_orders\u001b[0m\u001b[0;34m,\u001b[0m \u001b[0mrename\u001b[0m\u001b[0;34m=\u001b[0m\u001b[0mrename\u001b[0m\u001b[0;34m,\u001b[0m \u001b[0;34m**\u001b[0m\u001b[0mcolumns\u001b[0m\u001b[0;34m)\u001b[0m\u001b[0;34m\u001b[0m\u001b[0;34m\u001b[0m\u001b[0m\n\u001b[1;32m      4\u001b[0m \u001b[0;34m\u001b[0m\u001b[0m\n\u001b[1;32m      5\u001b[0m \u001b[0;31m# Exit orders order type and price to be changed\u001b[0m\u001b[0;34m\u001b[0m\u001b[0;34m\u001b[0m\u001b[0;34m\u001b[0m\u001b[0m\n",
      "\u001b[0;31mNameError\u001b[0m: name 'orders' is not defined"
     ]
    }
   ],
   "source": [
    "# Generating orders in the required format\n",
    "entry_orders = orders.copy()\n",
    "entry = create_orders(entry_orders, rename=rename, **columns)\n",
    "\n",
    "# Exit orders order type and price to be changed\n",
    "exit_orders = orders.copy()\n",
    "exit_orders['order'] = 'BUY'\n",
    "exit_orders['price'] = 0\n",
    "exit_orders['trigger_price'] = stop_loss(orders['price'], 3, order='S').round(2)\n",
    "columns.update({'Order Type': 'SL-M'})\n",
    "exit = create_orders(exit_orders, rename=rename, **columns)\n",
    "\n",
    "# File generation\n",
    "entry.append(exit, sort=False)[cols].to_csv('orders_to_place.csv', \n",
    "                   index=False, header=False)\n",
    "\n",
    "print('File generated')\n",
    "\n",
    "# If you want header change header to True\n",
    "# If you want to export as excel use the to_excel function"
   ]
  },
  {
   "cell_type": "markdown",
   "metadata": {},
   "source": [
    "## Order generation for Kite Zerodha\n",
    "\n",
    "1. Sign up for a zerodha publisher api key [here](https://kite.trade/)\n",
    "2. Update the API key in the below cell\n",
    "3. Run the below cells. It would create an html file **zerodha_order.html** in your present working directory.\n",
    "4. Open the HTML file and click the submit button to log into zerodha and place your orders.\n",
    "\n",
    "See the updated at time to make sure that this is the latest generated order."
   ]
  },
  {
   "cell_type": "code",
   "execution_count": null,
   "metadata": {},
   "outputs": [],
   "source": [
    "APIKEY = 'xxxxxxxxxxxxxxxx'"
   ]
  },
  {
   "cell_type": "code",
   "execution_count": null,
   "metadata": {},
   "outputs": [],
   "source": [
    "# List of columns to be included in the output\n",
    "\n",
    "cols = [\n",
    "   'tradingsymbol', 'exchange', 'transaction_type', 'order_type',\n",
    "    'quantity', 'product', 'validity', 'price', 'trigger_price'\n",
    "]\n",
    "\n",
    "# These columns are common for all orders - columns with a single name\n",
    "columns = {\n",
    "    'exchange': 'NSE',\n",
    "    'product': 'MIS',\n",
    "    'validity': 'DAY',\n",
    "    'order_type': 'SL'\n",
    "}\n",
    "\n",
    "# These are columns to be renamed\n",
    "rename = {\n",
    "    'order': 'transaction_type',\n",
    "    'price': 'Price',\n",
    "    'qty': 'quantity',\n",
    "    'trigger_price': 'trigger_price',\n",
    "    'price': 'price' ,\n",
    "    'SYMBOL': 'tradingsymbol'\n",
    "}"
   ]
  },
  {
   "cell_type": "code",
   "execution_count": null,
   "metadata": {},
   "outputs": [],
   "source": [
    "# Generating orders in the required format\n",
    "entry_orders = orders.copy()\n",
    "entry = create_orders(entry_orders, rename=rename, **columns)\n",
    "\n",
    "# Exit orders order type and price to be changed\n",
    "exit_orders = orders.copy()\n",
    "exit_orders['order'] = 'BUY'\n",
    "exit_orders['price'] = 0\n",
    "exit_orders['trigger_price'] = stop_loss(orders['price'], 3, order='S').round(2)\n",
    "columns.update({'order_type': 'SL-M'})\n",
    "exit = create_orders(exit_orders, rename=rename, **columns)\n",
    "trades = entry.append(exit, sort=False)[cols].to_dict(orient='records')"
   ]
  },
  {
   "cell_type": "code",
   "execution_count": null,
   "metadata": {},
   "outputs": [],
   "source": [
    "import json\n",
    "from jinja2 import Environment, FileSystemLoader\n",
    "env = Environment(loader=FileSystemLoader('.'))\n",
    "template = env.get_template('template.html')\n",
    "output_from_parsed_template = template.render(api_key = APIKEY,\n",
    "                                              orders=json.dumps(trades), \n",
    "                                              date=str(datetime.datetime.now()))\n",
    "\n",
    "with open('zerodha_order.html', 'w') as f:\n",
    "    f.write(output_from_parsed_template)\n",
    "    print('Zerodha order file generated')"
   ]
  }
 ],
 "metadata": {
  "kernelspec": {
   "display_name": "Python 3",
   "language": "python",
   "name": "python3"
  },
  "language_info": {
   "codemirror_mode": {
    "name": "ipython",
    "version": 3
   },
   "file_extension": ".py",
   "mimetype": "text/x-python",
   "name": "python",
   "nbconvert_exporter": "python",
   "pygments_lexer": "ipython3",
   "version": "3.6.8"
  }
 },
 "nbformat": 4,
 "nbformat_minor": 2
}

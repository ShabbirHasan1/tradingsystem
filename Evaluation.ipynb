{
 "cells": [
  {
   "cell_type": "markdown",
   "metadata": {},
   "source": [
    "## Strategy Evaluation\n",
    "\n",
    "### Simple Evaluation\n",
    "\n",
    "A simple way to evaluate a strategy is to compare it with a benchmark. A strategy is considered better if the strategy\n",
    "\n",
    " 1. returns are greater than the benchmark\n",
    " 2. drawdown is lesser than the benchmark\n",
    " 3. correlation to the benchmark is low\n",
    " 4. the backtesting/simulation period covers atleast 10 years\n"
   ]
  },
  {
   "cell_type": "code",
   "execution_count": null,
   "metadata": {},
   "outputs": [],
   "source": [
    "import pandas as pd\n",
    "import numpy as np\n",
    "import pyfolio as pf"
   ]
  }
 ],
 "metadata": {
  "kernelspec": {
   "display_name": "Python 3",
   "language": "python",
   "name": "python3"
  },
  "language_info": {
   "codemirror_mode": {
    "name": "ipython",
    "version": 3
   },
   "file_extension": ".py",
   "mimetype": "text/x-python",
   "name": "python",
   "nbconvert_exporter": "python",
   "pygments_lexer": "ipython3",
   "version": "3.6.8"
  }
 },
 "nbformat": 4,
 "nbformat_minor": 2
}
